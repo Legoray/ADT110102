{
  "cells": [
    {
      "cell_type": "code",
      "execution_count": 29,
      "metadata": {
        "colab": {
          "base_uri": "https://localhost:8080/"
        },
        "id": "4sb8ZVJai_OO",
        "outputId": "d148f590-1687-4a32-da84-ce6aa12b77e6"
      },
      "outputs": [
        {
          "output_type": "stream",
          "name": "stdout",
          "text": [
            "\n",
            "Gold\n",
            "銀行買進: 1990\n",
            "銀行賣出: 2021\n"
          ]
        }
      ],
      "source": [
        "import time\n",
        "import urllib.request as request\n",
        "from bs4 import BeautifulSoup as sp\n",
        "import requests\n",
        "\n",
        "local_time = time.ctime(time.time())\n",
        "url=\"https://rate.bot.com.tw/gold?Lang=zh-TW\" ###\n",
        "with request.urlopen(url) as response:\n",
        "  data=response.read().decode(\"utf-8\")\n",
        "  root=sp(data,\"html.parser\")\n",
        "  gold_in=(root.find_all(\"td\")[5].text.replace(\"回售\",\"\").strip()) ###\n",
        "  gold_out=(root.find_all(\"td\")[2].text.replace(\"買進\",\"\").strip()) ###\n",
        "  s1=(\"\\nGold\"+\"\\n銀行買進: \"+gold_in+\"\\n銀行賣出: \"+gold_out) ###\n",
        "  note=local_time+s1\n",
        "  print(s1)\n",
        ""
      ]
    }
  ],
  "metadata": {
    "colab": {
      "provenance": []
    },
    "kernelspec": {
      "display_name": "Python 3",
      "name": "python3"
    },
    "language_info": {
      "name": "python"
    }
  },
  "nbformat": 4,
  "nbformat_minor": 0
}