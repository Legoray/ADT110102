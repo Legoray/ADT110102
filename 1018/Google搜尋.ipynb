{
  "cells": [
    {
      "cell_type": "code",
      "execution_count": 30,
      "metadata": {
        "colab": {
          "base_uri": "https://localhost:8080/"
        },
        "id": "4sb8ZVJai_OO",
        "outputId": "73377da1-8392-49b5-a556-1c206d46b2c5"
      },
      "outputs": [
        {
          "output_type": "stream",
          "name": "stdout",
          "text": [
            "標題：大學- 维基百科，自由的百科全书zh.wikipedia.org › wiki › 大學\n",
            "網址：/url?q=https://zh.wikipedia.org/wiki/%25E5%25A4%25A7%25E5%25AD%25B8&sa=U&ved=2ahUKEwjQl-D_lf-BAxULRjABHT1HAGMQFnoECAoQAg&usg=AOvVaw26R8qgDJxv4-bl4S4y6pW3\n",
            "標題：大学_百度百科baike.baidu.com › item › 大学\n",
            "網址：/url?q=https://baike.baidu.com/item/%25E5%25A4%25A7%25E5%25AD%25A6/5655065&sa=U&ved=2ahUKEwjQl-D_lf-BAxULRjABHT1HAGMQFnoECAkQAg&usg=AOvVaw173icN1k5QEm0iHCuIB6UM\n",
            "標題：禮記·大學- 維基百科，自由的百科全書zh.wikipedia.org › zh-tw › 禮記·大學\n",
            "網址：/url?q=https://zh.wikipedia.org/zh-tw/%25E7%25A6%25AE%25E8%25A8%2598%25C2%25B7%25E5%25A4%25A7%25E5%25AD%25B8&sa=U&ved=2ahUKEwjQl-D_lf-BAxULRjABHT1HAGMQFnoECAsQAg&usg=AOvVaw2Opy8edthCZKmi63Cu6XtP\n",
            "標題：Harvard Universitywww.harvard.edu\n",
            "網址：/url?q=https://www.harvard.edu/&sa=U&ved=2ahUKEwjQl-D_lf-BAxULRjABHT1HAGMQFnoECAYQAg&usg=AOvVaw2hzIr9k_3dNcsNaCJJt0cJ\n",
            "標題：Purdue Universitywww.purdue.edu\n",
            "網址：/url?q=https://www.purdue.edu/&sa=U&ved=2ahUKEwjQl-D_lf-BAxULRjABHT1HAGMQFnoECAUQAg&usg=AOvVaw3sZkQzUGTTll5CeY90vPCU\n",
            "標題：University of California, Berkeley: Homewww.berkeley.edu\n",
            "網址：/url?q=https://www.berkeley.edu/&sa=U&ved=2ahUKEwjQl-D_lf-BAxULRjABHT1HAGMQFnoECAgQAg&usg=AOvVaw04oZqbXUt3YViNhJgGXYoh\n",
            "標題：Michigan State Universitymsu.edu\n",
            "網址：/url?q=https://msu.edu/&sa=U&ved=2ahUKEwjQl-D_lf-BAxULRjABHT1HAGMQFnoECAQQAg&usg=AOvVaw2onaCycjZCMMJLlLdCAr25\n",
            "標題：The University of Texas at Austinwww.utexas.edu\n",
            "網址：/url?q=https://www.utexas.edu/&sa=U&ved=2ahUKEwjQl-D_lf-BAxULRjABHT1HAGMQFnoECAIQAg&usg=AOvVaw2ZNS-jxzeWHrJKo1EYk2KW\n",
            "標題：University of Minnesota Twin Citiestwin-cities.umn.edu › ...\n",
            "網址：/url?q=https://twin-cities.umn.edu/home&sa=U&ved=2ahUKEwjQl-D_lf-BAxULRjABHT1HAGMQFnoECAcQAg&usg=AOvVaw1va7o9ky2xuStf8j9sYHuk\n",
            "標題：NYUwww.nyu.edu\n",
            "網址：/url?q=https://www.nyu.edu/&sa=U&ved=2ahUKEwjQl-D_lf-BAxULRjABHT1HAGMQFnoECAMQAg&usg=AOvVaw0NxFeQKD5_iKNw0LenarCx\n"
          ]
        }
      ],
      "source": [
        "import requests\n",
        "from bs4 import BeautifulSoup\n",
        "\n",
        "# Google 搜尋 URL\n",
        "google_url = 'https://www.google.com.tw/search'\n",
        "\n",
        "# 查詢參數\n",
        "my_params = {'q': '大學'}\n",
        "\n",
        "# 下載 Google 搜尋結果\n",
        "r = requests.get(google_url, params = my_params)\n",
        "\n",
        "# 確認是否下載成功\n",
        "if r.status_code == requests.codes.ok:\n",
        "  # 以 BeautifulSoup 解析 HTML 原始碼\n",
        "  soup = BeautifulSoup(r.text, 'html.parser')\n",
        "\n",
        "  # 觀察 HTML 原始碼\n",
        "  #print(soup.prettify())\n",
        "\n",
        "  # 以 CSS 的選擇器來抓取 Google 的搜尋結果\n",
        "  items = soup.select('div.kCrYT > a[href^=\"/url\"]')\n",
        "\n",
        "  for i in items:\n",
        "    # 標題\n",
        "    print(\"標題：\" + i.text)\n",
        "    # 網址\n",
        "    print(\"網址：\" + i.get('href'))"
      ]
    }
  ],
  "metadata": {
    "colab": {
      "provenance": []
    },
    "kernelspec": {
      "display_name": "Python 3",
      "name": "python3"
    },
    "language_info": {
      "name": "python"
    }
  },
  "nbformat": 4,
  "nbformat_minor": 0
}